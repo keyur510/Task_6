{
 "cells": [
  {
   "cell_type": "code",
   "execution_count": 1,
   "metadata": {},
   "outputs": [],
   "source": [
    "import pandas as pd\n",
    "import matplotlib.pyplot as plt\n",
    "import numpy as np\n",
    "from sklearn import linear_model\n",
    "import itertools as it"
   ]
  },
  {
   "cell_type": "markdown",
   "metadata": {},
   "source": [
    "# Assignment7"
   ]
  },
  {
   "cell_type": "markdown",
   "metadata": {},
   "source": [
    "## Salary Discrimination\n",
    "\n",
    "The file `salary.txt` contains data for 52 tenure-track professors at a small Midwestern college. This data was used in legal proceedings in the 1980s about discrimination against women in salary.\n",
    "\n",
    "The data in the file, by column:\n",
    "\n",
    "1. Sex. 1 for female, 0 for male.\n",
    "2. Rank. 1 for assistant professor, 2 for associate professor, 3 for full professor.\n",
    "3. Year. Number of years in current rank.\n",
    "4. Degree. Highest degree. 1 for doctorate, 0 for master's.\n",
    "5. YSdeg. Years since highest degree was earned.\n",
    "6. Salary. Salary/year in dollars.\n",
    "\n"
   ]
  },
  {
   "cell_type": "code",
   "execution_count": 2,
   "metadata": {},
   "outputs": [],
   "source": [
    "df = pd.read_fwf(\"salary.txt\", header=None, \n",
    "                 names=[\"Sex\", \"Rank\", \"Year\", \"Degree\", \"YSdeg\", \"Salary\"])\n",
    "salary_discrimi_column = ['Sex', 'Rank', 'Year', 'Degree', 'YSdeg']"
   ]
  },
  {
   "cell_type": "code",
   "execution_count": 3,
   "metadata": {},
   "outputs": [],
   "source": [
    "def lin_reg_equ(salary_discrimi_column, df):\n",
    "    input_column = df[salary_discrimi_column]\n",
    "    salary = df['Salary']\n",
    "    linear_regr_salary_discrimini = linear_model.LinearRegression()\n",
    "    linear_regr_salary_discrimini.fit(input_column, salary)\n",
    "    print('The equation for columns {} with respect to Salary:\\n'\n",
    "          '{} + {}'.format(salary_discrimi_column, linear_regr_salary_discrimini.coef_, linear_regr_salary_discrimini.intercept_))"
   ]
  },
  {
   "cell_type": "markdown",
   "metadata": {},
   "source": [
    "### Tasks\n",
    "\n",
    "1. Find the linear regression equation for this data using columns 1-5 to column 6.\n",
    "2. Find the selection of columns with the best $R^2$ score.\n",
    "3. Report whether sex is a factor in salary."
   ]
  },
  {
   "cell_type": "markdown",
   "metadata": {},
   "source": [
    "### Salary Discrimination, Task 1\n",
    "\n",
    "Find the linear regression equation for this data using columns 1-5 to column 6."
   ]
  },
  {
   "cell_type": "code",
   "execution_count": 4,
   "metadata": {},
   "outputs": [
    {
     "name": "stdout",
     "output_type": "stream",
     "text": [
      "The equation for columns ['Sex', 'Rank', 'Year', 'Degree', 'YSdeg'] with respect to Salary:\n",
      "[ 1241.7924996   5586.18144952   482.85976783 -1331.64406341\n",
      "  -128.79057354] + 11410.146547255623\n"
     ]
    }
   ],
   "source": [
    "lin_reg_equ(salary_discrimi_column, df)"
   ]
  },
  {
   "cell_type": "markdown",
   "metadata": {},
   "source": [
    "### Salary Discrimination, Task 2\n",
    "\n",
    "Find the selection of columns with the best $R^2$ score.\n"
   ]
  },
  {
   "cell_type": "code",
   "execution_count": 5,
   "metadata": {},
   "outputs": [],
   "source": [
    "def lin_reg_wrt_focus(salary_discrimi_column, df, focus='Salary'):\n",
    "    input_column = df[salary_discrimi_column]\n",
    "    focus_output = df[focus]\n",
    "    regr_sd = linear_model.LinearRegression()\n",
    "    regr_sd.fit(input_column, focus_output)\n",
    "    return regr_sd.score(input_column, focus_output)"
   ]
  },
  {
   "cell_type": "code",
   "execution_count": 6,
   "metadata": {},
   "outputs": [
    {
     "name": "stdout",
     "output_type": "stream",
     "text": [
      "R^2 score for equation using all columns: 0.854718067441097\n"
     ]
    }
   ],
   "source": [
    "print('R^2 score for equation using all columns: {}'\n",
    "      .format(lin_reg_wrt_focus(salary_discrimi_column, df)))"
   ]
  },
  {
   "cell_type": "code",
   "execution_count": 7,
   "metadata": {},
   "outputs": [],
   "source": [
    "def get_combos(colum):\n",
    "    return [it.combinations(colum, n + 1) for n in range(len(colum))]"
   ]
  },
  {
   "cell_type": "code",
   "execution_count": 8,
   "metadata": {},
   "outputs": [],
   "source": [
    "combos = get_combos(salary_discrimi_column)"
   ]
  },
  {
   "cell_type": "code",
   "execution_count": 9,
   "metadata": {},
   "outputs": [],
   "source": [
    "def all_combo_scores(combos, df, focus='Salary'):\n",
    "    combo_scores = {}\n",
    "    for m in range(len(list(combos))):\n",
    "        for n in list(combos[m]):\n",
    "            combo_scores[lin_reg_wrt_focus(list(n), df, focus)] = n\n",
    "    return combo_scores"
   ]
  },
  {
   "cell_type": "code",
   "execution_count": 10,
   "metadata": {},
   "outputs": [
    {
     "data": {
      "text/plain": [
       "[(0.854718067441097, ('Sex', 'Rank', 'Year', 'Degree', 'YSdeg')),\n",
       " (0.8490366192262851, ('Sex', 'Rank', 'Year', 'YSdeg')),\n",
       " (0.8485077204335425, ('Rank', 'Year', 'Degree', 'YSdeg')),\n",
       " (0.8456725764485596, ('Rank', 'Year', 'YSdeg')),\n",
       " (0.8455476412979359, ('Sex', 'Rank', 'Year', 'Degree')),\n",
       " (0.8454319861987165, ('Sex', 'Rank', 'Year')),\n",
       " (0.8437395200874137, ('Rank', 'Year', 'Degree')),\n",
       " (0.8436480933264597, ('Rank', 'Year')),\n",
       " (0.7671813414350668, ('Sex', 'Rank', 'Degree', 'YSdeg')),\n",
       " (0.7666122610227071, ('Sex', 'Rank', 'YSdeg')),\n",
       " (0.7625149185326454, ('Rank', 'Degree', 'YSdeg')),\n",
       " (0.7623948189698249, ('Rank', 'YSdeg')),\n",
       " (0.7583144768153612, ('Sex', 'Rank', 'Degree')),\n",
       " (0.7557961688386643, ('Rank', 'Degree')),\n",
       " (0.7554917749443394, ('Sex', 'Rank')),\n",
       " (0.7525360539274631, ('Rank',)),\n",
       " (0.6311597502907436, ('Sex', 'Year', 'Degree', 'YSdeg')),\n",
       " (0.6236261611533503, ('Year', 'Degree', 'YSdeg')),\n",
       " (0.5832708257660315, ('Sex', 'Degree', 'YSdeg')),\n",
       " (0.5808063918180406, ('Sex', 'Year', 'YSdeg')),\n",
       " (0.5782019226431887, ('Year', 'YSdeg')),\n",
       " (0.5409662288237875, ('Degree', 'YSdeg')),\n",
       " (0.4930479271966782, ('Sex', 'YSdeg')),\n",
       " (0.49207944757472966, ('Sex', 'Year', 'Degree')),\n",
       " (0.4919014149016441, ('Year', 'Degree')),\n",
       " (0.4911360941886386, ('Sex', 'Year')),\n",
       " (0.49093702676921624, ('Year',)),\n",
       " (0.45542813458360276, ('YSdeg',)),\n",
       " (0.06643739842018881, ('Sex', 'Degree')),\n",
       " (0.06389892583288004, ('Sex',)),\n",
       " (0.004861680984748484, ('Degree',))]"
      ]
     },
     "execution_count": 10,
     "metadata": {},
     "output_type": "execute_result"
    }
   ],
   "source": [
    "combo_scores = all_combo_scores(combos, df)\n",
    "sorted(combo_scores.items(), key=lambda c: c[0], reverse=True)"
   ]
  },
  {
   "cell_type": "markdown",
   "metadata": {},
   "source": [
    "### Salary Discrimination, Task 2 Conclusion\n",
    "\n",
    "The selection with the best $R^2$ score is: `Sex`, `Rank`, `Year`, `Degree`, `YSdeg`: **0.854718067441097**\n",
    "\n",
    "**However**, although including all of the columns produces the highest $R^2$ score, there are two dominant factors: **`Year`** and **`Rank`**. Just these two factors taken together have a score of **0.8436480933264597**."
   ]
  },
  {
   "cell_type": "markdown",
   "metadata": {},
   "source": [
    "\n",
    "### Salary Discrimination, Task 3\n",
    "\n",
    "Report whether sex is a factor in salary.\n",
    "\n",
    "It is worth noting that `Sex` on its own has a score very close to zero **(0.063898925832880038)**, indicating that it has no direct influence on salary."
   ]
  },
  {
   "cell_type": "code",
   "execution_count": 11,
   "metadata": {},
   "outputs": [
    {
     "name": "stdout",
     "output_type": "stream",
     "text": [
      "Num of Men: 38\n",
      "Num of Women: 14\n"
     ]
    }
   ],
   "source": [
    "num_by_sex = df.Sex.value_counts()\n",
    "print('Num of Men: {}\\nNum of Women: {}'.format(num_by_sex[0], num_by_sex[1]))"
   ]
  },
  {
   "cell_type": "code",
   "execution_count": 12,
   "metadata": {},
   "outputs": [
    {
     "data": {
      "image/png": "[encoded data removed]",
      "text/plain": [
       "<Figure size 432x288 with 1 Axes>"
      ]
     },
     "metadata": {
      "needs_background": "light"
     },
     "output_type": "display_data"
    }
   ],
   "source": [
    "df.pivot_table(index=df.index, columns='Sex', values='Salary') \\\n",
    "    .plot(kind='hist', alpha=0.9, stacked=True, bins=20, title='Salary by Sex')\n",
    "plt.xlabel('Dollars')\n",
    "plt.ylabel('Faculty')\n",
    "plt.show()"
   ]
  },
  {
   "cell_type": "code",
   "execution_count": 13,
   "metadata": {},
   "outputs": [
    {
     "data": {
      "image/png": "[encoded data removed]",
      "text/plain": [
       "<Figure size 432x288 with 1 Axes>"
      ]
     },
     "metadata": {
      "needs_background": "light"
     },
     "output_type": "display_data"
    }
   ],
   "source": [
    "df.pivot_table(index=df.index, columns='Sex', values='Rank') \\\n",
    "    .plot(kind='hist', alpha=0.9, stacked=True, title='Rank by Sex')\n",
    "plt.xticks([1, 2, 3])\n",
    "plt.xlabel('Rank')\n",
    "plt.ylabel('Faculty')\n",
    "plt.show()"
   ]
  },
  {
   "cell_type": "code",
   "execution_count": 14,
   "metadata": {},
   "outputs": [
    {
     "data": {
      "image/png": "[encoded data removed]",
      "text/plain": [
       "<Figure size 432x288 with 1 Axes>"
      ]
     },
     "metadata": {
      "needs_background": "light"
     },
     "output_type": "display_data"
    }
   ],
   "source": [
    "df.pivot_table(index=df.index, columns='Sex', values='Year') \\\n",
    "    .plot(kind='hist', alpha=0.9, stacked=True, bins=12,\n",
    "          title='Years in Rank by Sex')\n",
    "plt.xlabel('Years')\n",
    "plt.ylabel('Faculty')\n",
    "plt.show()"
   ]
  },
  {
   "cell_type": "markdown",
   "metadata": {},
   "source": [
    "The women at this university have only been at their present rank for at most 10 years; let's compare with the men who have a similar number of years.\n",
    "\n",
    "### Comparing Men and Women with Similar Number of Years"
   ]
  },
  {
   "cell_type": "code",
   "execution_count": 15,
   "metadata": {},
   "outputs": [],
   "source": [
    "df_10 = df[df['Year'] <= 10]"
   ]
  },
  {
   "cell_type": "code",
   "execution_count": 16,
   "metadata": {},
   "outputs": [
    {
     "data": {
      "text/plain": [
       "[(0.7968248819660303, ('Sex', 'Rank', 'Year', 'Degree', 'YSdeg')),\n",
       " (0.7872092866034841, ('Sex', 'Rank', 'Year', 'YSdeg')),\n",
       " (0.7857914167129874, ('Rank', 'Year', 'Degree', 'YSdeg')),\n",
       " (0.7812953737007231, ('Rank', 'Year', 'YSdeg')),\n",
       " (0.7811304025138204, ('Sex', 'Rank', 'Year', 'Degree')),\n",
       " (0.7809344717080976, ('Sex', 'Rank', 'Year')),\n",
       " (0.7783076155381674, ('Rank', 'Year', 'Degree')),\n",
       " (0.778125545829645, ('Rank', 'Year')),\n",
       " (0.7267866959953191, ('Sex', 'Rank', 'Degree', 'YSdeg')),\n",
       " (0.7266289950954575, ('Sex', 'Rank', 'Degree')),\n",
       " (0.7263171650507368, ('Rank', 'Degree', 'YSdeg')),\n",
       " (0.7262952984826756, ('Rank', 'Degree')),\n",
       " (0.7237917566538923, ('Sex', 'Rank', 'YSdeg')),\n",
       " (0.7237599305119999, ('Rank', 'YSdeg')),\n",
       " (0.7224004990910746, ('Sex', 'Rank')),\n",
       " (0.7221603677648399, ('Rank',)),\n",
       " (0.5211388967522838, ('Sex', 'Year', 'Degree', 'YSdeg')),\n",
       " (0.5106317178170396, ('Year', 'Degree', 'YSdeg')),\n",
       " (0.47582422204482056, ('Sex', 'Degree', 'YSdeg')),\n",
       " (0.46515893607776626, ('Sex', 'Year', 'YSdeg')),\n",
       " (0.46069130390981805, ('Year', 'YSdeg')),\n",
       " (0.4448739733320233, ('Degree', 'YSdeg')),\n",
       " (0.4042796870122093, ('Sex', 'YSdeg')),\n",
       " (0.3832919418621781, ('YSdeg',)),\n",
       " (0.3261084635012448, ('Sex', 'Year', 'Degree')),\n",
       " (0.325988256704955, ('Sex', 'Year')),\n",
       " (0.32547258856854433, ('Year', 'Degree')),\n",
       " (0.32534791979498534, ('Year',)),\n",
       " (0.019252695844517165, ('Sex', 'Degree')),\n",
       " (0.01327225187005543, ('Degree',)),\n",
       " (0.006877700561349731, ('Sex',))]"
      ]
     },
     "execution_count": 16,
     "metadata": {},
     "output_type": "execute_result"
    }
   ],
   "source": [
    "combos_10 = get_combos(salary_discrimi_column)\n",
    "combo_10_scores = all_combo_scores(combos_10, df_10)\n",
    "sorted(combo_10_scores.items(), key=lambda c: c[0], reverse=True)"
   ]
  },
  {
   "cell_type": "markdown",
   "metadata": {},
   "source": [
    "Again, we see that **`Sex` has no direct influence on `Salary`**: score of **0.0068777005613497311**."
   ]
  },
  {
   "cell_type": "code",
   "execution_count": 17,
   "metadata": {},
   "outputs": [
    {
     "data": {
      "image/png": "[encoded data removed]",
      "text/plain": [
       "<Figure size 432x288 with 1 Axes>"
      ]
     },
     "metadata": {
      "needs_background": "light"
     },
     "output_type": "display_data"
    }
   ],
   "source": [
    "df_10.pivot_table(index=df_10.index, columns='Sex', values='Salary') \\\n",
    "    .plot(kind='hist', alpha=0.7, stacked=True, bins=20,\n",
    "          title='Salary by Sex, Max 10 Years at Current Rank')\n",
    "plt.xlabel('Dollars')\n",
    "plt.ylabel('Faculty')\n",
    "plt.show()"
   ]
  },
  {
   "cell_type": "code",
   "execution_count": 18,
   "metadata": {},
   "outputs": [
    {
     "data": {
      "image/png": "[encoded data removed]",
      "text/plain": [
       "<Figure size 432x288 with 1 Axes>"
      ]
     },
     "metadata": {
      "needs_background": "light"
     },
     "output_type": "display_data"
    }
   ],
   "source": [
    "df_10.pivot_table(index=df_10.index, columns='Sex', values='Rank') \\\n",
    "    .plot(kind='hist', alpha=0.7, stacked=True, \n",
    "          title='Rank by Sex, Max 10 Years at Current Rank')\n",
    "plt.xticks([1,2,3])\n",
    "plt.xlabel('Dollars')\n",
    "plt.ylabel('Faculty')\n",
    "plt.show()"
   ]
  },
  {
   "cell_type": "markdown",
   "metadata": {},
   "source": [
    "The data show that there is no direct salary discrimination by sex; however, we should investigate the single largest influencer of salary—`Rank`."
   ]
  },
  {
   "cell_type": "code",
   "execution_count": 19,
   "metadata": {},
   "outputs": [
    {
     "data": {
      "text/plain": [
       "[(0.6684776318082726, ('Sex', 'Year', 'Degree', 'YSdeg')),\n",
       " (0.6650836168279377, ('Sex', 'Degree', 'YSdeg')),\n",
       " (0.6123237979933464, ('Year', 'Degree', 'YSdeg')),\n",
       " (0.6121040013037699, ('Degree', 'YSdeg')),\n",
       " (0.5169568608935469, ('Sex', 'Year', 'YSdeg')),\n",
       " (0.5169178279759162, ('Sex', 'YSdeg')),\n",
       " (0.4848731472423393, ('Year', 'YSdeg')),\n",
       " (0.48257642674080226, ('YSdeg',)),\n",
       " (0.17754355818252254, ('Sex', 'Year', 'Degree')),\n",
       " (0.17641648396278564, ('Sex', 'Year')),\n",
       " (0.1761306214861189, ('Year', 'Degree')),\n",
       " (0.17502353196257248, ('Year',)),\n",
       " (0.016344674690073613, ('Sex', 'Degree')),\n",
       " (0.013387066889012145, ('Sex',)),\n",
       " (0.0036042103162726713, ('Degree',))]"
      ]
     },
     "execution_count": 19,
     "metadata": {},
     "output_type": "execute_result"
    }
   ],
   "source": [
    "rank_discrim_col = ['Sex', 'Year', 'Degree', 'YSdeg']\n",
    "combos_rank = get_combos(rank_discrim_col)\n",
    "combo_rank_scores = all_combo_scores(combos_rank, df_10, 'Rank')\n",
    "sorted(combo_rank_scores.items(), key=lambda c: c[0], reverse=True)"
   ]
  },
  {
   "cell_type": "markdown",
   "metadata": {},
   "source": [
    "### Salary Discrimination, Task 3 Conclusion\n",
    "\n",
    "Without looking at the influencers of `Rank`, looking only at their present rank for 10 years or less, there is no correlation with `Sex`.\n",
    "\n",
    " **There is no salary discrimination by `Sex`.**"
   ]
  }
 ],
 "metadata": {
  "kernelspec": {
   "display_name": "Python 3.10.4 64-bit",
   "language": "python",
   "name": "python3"
  },
  "language_info": {
   "codemirror_mode": {
    "name": "ipython",
    "version": 3
   },
   "file_extension": ".py",
   "mimetype": "text/x-python",
   "name": "python",
   "nbconvert_exporter": "python",
   "pygments_lexer": "ipython3",
   "version": "3.10.4"
  },
  "vscode": {
   "interpreter": {
    "hash": "c59a870ed50f6e263a9e561f34ab14161f26ba97185e2fa72a20f16444efbb72"
   }
  }
 },
 "nbformat": 4,
 "nbformat_minor": 1
}
